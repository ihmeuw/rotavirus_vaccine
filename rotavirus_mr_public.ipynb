{
 "cells": [
  {
   "cell_type": "code",
   "execution_count": null,
   "metadata": {},
   "outputs": [],
   "source": [
    "import numpy as np\n",
    "import pandas as pd\n",
    "import sys\n",
    "import os\n",
    "import warnings\n",
    "import dill\n",
    "import pickle as pkl\n",
    "\n",
    "import mrtool\n",
    "\n",
    "sys.path.append('../')\n",
    "import paths_vsn6 as pth\n",
    "import mr_functions\n",
    "import plotting_functions\n",
    "\n",
    "import matplotlib as mpl\n",
    "import matplotlib.pyplot as plt"
   ]
  },
  {
   "cell_type": "code",
   "execution_count": null,
   "metadata": {},
   "outputs": [],
   "source": [
    "output_dir = pth.CURR_VSN_DIR\n",
    "df = pd.read_csv(pth.CLEANED_REG_DF_WITH_SENS)"
   ]
  },
  {
   "cell_type": "code",
   "execution_count": 5,
   "metadata": {},
   "outputs": [],
   "source": [
    "df = pd.concat([df.loc[df['RatioID'] == i].iloc[[0]] for i in df['RatioID'].unique()], axis=0)"
   ]
  },
  {
   "cell_type": "code",
   "execution_count": 7,
   "metadata": {},
   "outputs": [],
   "source": [
    "response_name = 'log_icer'\n",
    "se_name = 'log_icer_se'\n",
    "spline_cov = 'log_GDP_2017usd_per_cap'\n",
    "study_id_name = 'ArticleID'\n",
    "data_id_name = 'RatioID'"
   ]
  },
  {
   "cell_type": "code",
   "execution_count": 8,
   "metadata": {},
   "outputs": [],
   "source": [
    "cwalk_params = pd.read_csv(pth.CWALK_PARAM_SUMMARY).set_index('covariate')\n",
    "cwalk_params\n",
    "\n",
    "cwalk_covs = ['log_total_cost_per_cap', 'DiscountRate','CostsDiscountRate', 'coverage','pentavalent',\n",
    "              'payer','efficacy'] # 'ltd_and_societal',\n",
    "\n"
   ]
  },
  {
   "cell_type": "code",
   "execution_count": 9,
   "metadata": {},
   "outputs": [],
   "source": [
    "df = df[(df[response_name].notnull()) &\\\n",
    "        (~np.isinf(df[response_name])) &\\\n",
    "        (df[spline_cov].notnull()) &\\\n",
    "        (df['log_burden_variable'].notnull())]\n",
    "df = df[df[cwalk_covs].notnull().all(axis=1)]"
   ]
  },
  {
   "cell_type": "code",
   "execution_count": 12,
   "metadata": {},
   "outputs": [],
   "source": [
    "cov_dict = {spline_cov: df[spline_cov].to_numpy(),\n",
    "            'log_burden_variable': df['log_burden_variable'].to_numpy()}\n",
    "cov_dict.update({w: df[w].to_numpy() for w in cwalk_covs})\n",
    "\n",
    "cwalk_priors = cwalk_params[['beta', 'se_beta']]\n",
    "cwalk_param_dict = {w: cwalk_priors.loc[w, ['beta', 'se_beta']].to_numpy() for w in cwalk_covs}\n",
    "cwalk_prior_dict = {key: value for key, value in cwalk_param_dict.items()}"
   ]
  },
  {
   "cell_type": "code",
   "execution_count": null,
   "metadata": {},
   "outputs": [],
   "source": [
    "if not os.path.exists(pth.SIGNAL_MR_PKL):\n",
    "    signal_mr = mr_functions.fit_signal_model(df,\n",
    "                                              resp_name=response_name, se_name=se_name, spline_cov=spline_cov,\n",
    "                                              study_id_name=study_id_name, data_id_name=data_id_name,\n",
    "                                              other_cov_names=cwalk_covs + ['log_burden_variable'],\n",
    "                                              other_cov_gpriors=cwalk_param_dict,\n",
    "                                              h=0.1, num_samples=20, deg=2, n_i_knots=2, knots_type='domain',\n",
    "                                              knot_bounds = np.array([[0.1, 0.6], [0.4, 0.9]]),\n",
    "                                              interval_sizes = np.array([[0.1, 0.7], [0.1, 0.7], [0.1, 0.7]]))\n",
    "    with open(pth.SIGNAL_MR_PKL, 'wb') as out_file:\n",
    "        dill.dump(signal_mr, out_file)\n",
    "else:\n",
    "    print('signal mr object has already been fitted')\n",
    "    with open(pth.SIGNAL_MR_PKL, 'rb') as in_file:\n",
    "        signal_mr = dill.load(in_file)"
   ]
  },
  {
   "cell_type": "code",
   "execution_count": 15,
   "metadata": {},
   "outputs": [],
   "source": [
    "signal_df = mr_functions.create_signal(signal_mr, spline_cov, spline_cov_values=df[spline_cov].to_numpy(),\n",
    "                                       data_id_name=data_id_name, data_ids=df[data_id_name].to_numpy())\n",
    "w_df = mr_functions.get_ws(signal_mr,\n",
    "                 data_id_name=data_id_name)\n",
    "signal_df = signal_df.merge(w_df, on=[data_id_name])\n",
    "\n",
    "df = df.merge(signal_df[[data_id_name, 'new_spline_cov', 'w']],\n",
    "              on=[data_id_name])"
   ]
  },
  {
   "cell_type": "code",
   "execution_count": 16,
   "metadata": {},
   "outputs": [],
   "source": [
    "full_df = df.copy()\n",
    "df = df[df['w'] > 0.5].copy().reset_index(drop=True)"
   ]
  },
  {
   "cell_type": "code",
   "execution_count": null,
   "metadata": {},
   "outputs": [],
   "source": [
    "if not os.path.exists(pth.SEL_COVS_PKL):\n",
    "    selected_covs = mr_functions.select_covariates(df=df,\n",
    "                                                   candidate_covs=['log_burden_variable',\n",
    "                                                                   'not_lifetime',\n",
    "                                                                   'qalys'\n",
    "                                                                  ],\n",
    "                                                   include_covs=['intercept', 'both_types','new_spline_cov'] + cwalk_covs,\n",
    "                                                   resp_name=response_name,\n",
    "                                                   se_name=se_name, study_id_name=study_id_name,\n",
    "                                                   beta_gprior=cwalk_param_dict\n",
    "                                                  )\n",
    "\n",
    "    with open(pth.SEL_COVS_PKL, 'wb') as out_file:\n",
    "        pkl.dump(selected_covs, out_file, protocol=pkl.HIGHEST_PROTOCOL)\n",
    "else:\n",
    "    print('covariates have already been selected.')\n",
    "    with open(pth.SEL_COVS_PKL, 'rb') as in_file:\n",
    "        selected_covs = pkl.load(in_file)"
   ]
  },
  {
   "cell_type": "code",
   "execution_count": 19,
   "metadata": {},
   "outputs": [],
   "source": [
    "df['null_study_id'] = df['RatioID']\n",
    "if not os.path.exists(pth.CV_RESULTS):\n",
    "    cv_sds, cv_mses = mr_functions.k_fold_cv_gaussian_prior(k=10,\n",
    "                                                            df=df,\n",
    "                                                            resp_name=response_name,\n",
    "                                                            se_name=se_name,\n",
    "                                                            study_id_name=study_id_name,\n",
    "                                                            data_id_name=data_id_name,\n",
    "                                                            covs=selected_covs,\n",
    "                                                            beta_gpriors=cwalk_prior_dict,\n",
    "                                                            initial_upper_prior_sd=1.0,\n",
    "                                                            num_sds_per_step=5)\n",
    "    cv_sds = cv_sds[np.argsort(cv_mses)]\n",
    "    cv_mses = cv_mses[np.argsort(cv_mses)]\n",
    "    \n",
    "    cv_results = pd.DataFrame({'sd': cv_sds, 'mse': cv_mses})\n",
    "    cv_results.to_csv(pth.CV_RESULTS)\n",
    "else:\n",
    "    cv_results = pd.read_csv(pth.CV_RESULTS)\n",
    "    cv_mses = cv_results['mse'].to_numpy()\n",
    "    cv_sds = cv_results['sd'].to_numpy()"
   ]
  },
  {
   "cell_type": "code",
   "execution_count": null,
   "metadata": {},
   "outputs": [],
   "source": [
    "upper_bound = np.quantile(np.log(cv_mses), 0.55)\n",
    "lower_bound = np.log(cv_mses)[0]\n",
    "upper_bound = upper_bound + (upper_bound - lower_bound) * 1.1\n",
    "lower_bound = lower_bound - (upper_bound - lower_bound) * 1.1\n",
    "\n",
    "msk = np.log(cv_mses) < upper_bound\n",
    "xvals = cv_sds[msk]\n",
    "yvals = np.log(cv_mses)[msk]\n",
    "\n",
    "left_bound = np.min(xvals)\n",
    "right_bound = np.max(xvals)\n",
    "max_minus_min = right_bound - left_bound\n",
    "left_bound = left_bound - max_minus_min * 1.1\n",
    "right_bound = right_bound + max_minus_min * 1.1\n",
    "\n",
    "fig, ax = plt.subplots(nrows=1, ncols=1, figsize=(14, 8))\n",
    "ax.scatter(x=xvals, y=yvals)\n",
    "ax.set_ylim((lower_bound, upper_bound))\n",
    "ax.set_xlim((left_bound, right_bound))"
   ]
  },
  {
   "cell_type": "code",
   "execution_count": 22,
   "metadata": {},
   "outputs": [],
   "source": [
    "prior_sd = cv_results['sd'].to_numpy()[np.argmin(cv_results['mse'].to_numpy())]\n",
    "\n",
    "gpriors = {v: np.array([0, prior_sd / df[v].std()])\n",
    "           for v in selected_covs if v not in ['intercept'] + list(cwalk_prior_dict.keys())}\n",
    "\n",
    "gpriors.update(cwalk_prior_dict)\n",
    "gpriors.update({'intercept': [np.array([0, np.inf]),\n",
    "                              np.array([0, np.inf])]})"
   ]
  },
  {
   "cell_type": "code",
   "execution_count": 23,
   "metadata": {},
   "outputs": [],
   "source": [
    "#FINAL_MODEL_PKL = pth.CURR_VSN_DIR + 'final_model.pkl'\n",
    "if not os.path.exists(pth.FINAL_MODEL_PKL):\n",
    "    mr = mr_functions.fit_with_covs(df=df, covs=selected_covs,\n",
    "                                    resp_name=response_name, se_name=se_name,\n",
    "                                    study_id_name=study_id_name,\n",
    "                                    data_id_name=data_id_name,\n",
    "                                    z_covs=['intercept'],\n",
    "                                    trim_prop=0.0, spline_cov=None,\n",
    "                                    gprior_dict=gpriors,\n",
    "                                    inner_max_iter=2000, outer_max_iter=1000)\n",
    "\n",
    "    with open(pth.FINAL_MODEL_PKL, 'wb') as out_file:\n",
    "        dill.dump(mr, out_file)\n",
    "else:\n",
    "    with open(pth.FINAL_MODEL_PKL, 'rb') as in_file:\n",
    "        mr = dill.load(in_file)"
   ]
  },
  {
   "cell_type": "code",
   "execution_count": 24,
   "metadata": {},
   "outputs": [],
   "source": [
    "np.random.seed(5032198)\n",
    "beta_samples = mrtool.core.other_sampling.sample_simple_lme_beta(1000, mr)\n",
    "\n",
    "mr_summary = mr_functions.summarize_parameters(mr, 'log_GDP_per_cap')\n",
    "\n",
    "mr_summary[['beta', 'beta_se', 'beta_variance', 'gamma']] = np.round(mr_summary[['beta', 'beta_se', 'beta_variance', 'gamma']],\n",
    "                                                                     decimals=4)\n",
    "\n",
    "mr_summary.to_csv(pth.FINAL_MODEL_PARAM_SUMMARY)\n",
    "\n",
    "\n",
    "beta_samples_pd = pd.DataFrame(beta_samples)\n",
    "beta_samples_pd.to_csv('file_path/beta_samples.csv')"
   ]
  },
  {
   "cell_type": "code",
   "execution_count": null,
   "metadata": {},
   "outputs": [],
   "source": [
    "fig, ax = plt.subplots(nrows=1, ncols=1, figsize=(14, 8))\n",
    "ax.scatter(df['log_GDP_2017usd_per_cap'], df['new_spline_cov'])\n",
    "plt.savefig(pth.SPLINE_TRANSFORM_PLOT)"
   ]
  },
  {
   "cell_type": "code",
   "execution_count": null,
   "metadata": {},
   "outputs": [],
   "source": [
    "plotting_functions.visualize_spline(\n",
    "    signal_mr,\n",
    "    'log_GDP_2017usd_per_cap',\n",
    "    df['log_GDP_2017usd_per_cap'].to_numpy(),\n",
    "    x_on_log_scale=True,\n",
    "    out_file_name=output_dir + 'spline_transformation_plot_11_15_21.pdf',\n",
    "    x_label='GDP per capita (USD)')"
   ]
  },
  {
   "cell_type": "code",
   "execution_count": 28,
   "metadata": {},
   "outputs": [],
   "source": [
    "new_spline_cov = mr_functions.create_signal(signal_mr=signal_mr,\n",
    "                                            spline_cov=spline_cov,\n",
    "                                            spline_cov_values=df[spline_cov].to_numpy(),\n",
    "                                            data_id_name=data_id_name,\n",
    "                                            data_ids=df[data_id_name].to_numpy())"
   ]
  },
  {
   "cell_type": "code",
   "execution_count": 29,
   "metadata": {},
   "outputs": [],
   "source": [
    "# Write out df with new spline cov for predictions/cost-saving logistic regressions\n",
    "df.to_csv('file_path/df_with_new_spline_cov.csv')"
   ]
  },
  {
   "cell_type": "code",
   "execution_count": 30,
   "metadata": {},
   "outputs": [],
   "source": [
    "df = df[df[[v for v in selected_covs + ['log_icer']]].notnull().all(axis=1)]\n",
    "df = df[~np.isinf(df['log_icer'])]"
   ]
  },
  {
   "cell_type": "code",
   "execution_count": 31,
   "metadata": {},
   "outputs": [],
   "source": [
    "fit_df = mr_functions.create_fit_df(mr=mr, df=df,\n",
    "                                    resp_name=response_name,\n",
    "                                    study_id_name=study_id_name,\n",
    "                                    other_id_col_names=[], data_id_name=data_id_name)\n",
    "\n",
    "r2s = mr_functions.r2(mr, fit_df, response_name)"
   ]
  },
  {
   "cell_type": "code",
   "execution_count": 32,
   "metadata": {},
   "outputs": [],
   "source": [
    "fit_df.to_csv('file_path/fit_df.csv')"
   ]
  },
  {
   "cell_type": "code",
   "execution_count": 32,
   "metadata": {},
   "outputs": [
    {
     "data": {
      "text/html": [
       "<div>\n",
       "<style scoped>\n",
       "    .dataframe tbody tr th:only-of-type {\n",
       "        vertical-align: middle;\n",
       "    }\n",
       "\n",
       "    .dataframe tbody tr th {\n",
       "        vertical-align: top;\n",
       "    }\n",
       "\n",
       "    .dataframe thead th {\n",
       "        text-align: right;\n",
       "    }\n",
       "</style>\n",
       "<table border=\"1\" class=\"dataframe\">\n",
       "  <thead>\n",
       "    <tr style=\"text-align: right;\">\n",
       "      <th></th>\n",
       "      <th>R_squared</th>\n",
       "      <th>RMSE</th>\n",
       "      <th>Sample_size</th>\n",
       "    </tr>\n",
       "  </thead>\n",
       "  <tbody>\n",
       "    <tr>\n",
       "      <th>fitted_fe_and_re</th>\n",
       "      <td>0.961194</td>\n",
       "      <td>0.606611</td>\n",
       "      <td>NaN</td>\n",
       "    </tr>\n",
       "    <tr>\n",
       "      <th>fitted_fe_only</th>\n",
       "      <td>0.943804</td>\n",
       "      <td>0.737565</td>\n",
       "      <td>1211.0</td>\n",
       "    </tr>\n",
       "  </tbody>\n",
       "</table>\n",
       "</div>"
      ],
      "text/plain": [
       "                  R_squared      RMSE  Sample_size\n",
       "fitted_fe_and_re   0.961194  0.606611          NaN\n",
       "fitted_fe_only     0.943804  0.737565       1211.0"
      ]
     },
     "execution_count": 32,
     "metadata": {},
     "output_type": "execute_result"
    }
   ],
   "source": [
    "r2s"
   ]
  },
  {
   "cell_type": "code",
   "execution_count": 33,
   "metadata": {},
   "outputs": [],
   "source": [
    "## R^2 for only the base-case analyses\n",
    "df = df[df['reference_scenario'] == \"1\"]"
   ]
  },
  {
   "cell_type": "code",
   "execution_count": 35,
   "metadata": {},
   "outputs": [],
   "source": [
    "fit_df = mr_functions.create_fit_df(mr=mr, df=df,\n",
    "                                    resp_name=response_name,\n",
    "                                    study_id_name=study_id_name,\n",
    "                                    other_id_col_names=[], data_id_name=data_id_name)"
   ]
  },
  {
   "cell_type": "code",
   "execution_count": 36,
   "metadata": {},
   "outputs": [],
   "source": [
    "r2_base_cases = mr_functions.r2(mr, fit_df, response_name)"
   ]
  },
  {
   "cell_type": "code",
   "execution_count": 37,
   "metadata": {},
   "outputs": [],
   "source": [
    "r2_base_cases = r2_base_cases.rename({'Sample_size': 'Sample_size_base_cases',\n",
    "                                      'R_squared': 'R_squared_base_cases',\n",
    "                                      'RMSE': 'RMSE_base_cases'},\n",
    "                                     axis=1)\n",
    "r2s = r2s.join(r2_base_cases)"
   ]
  },
  {
   "cell_type": "code",
   "execution_count": 38,
   "metadata": {},
   "outputs": [
    {
     "data": {
      "text/html": [
       "<div>\n",
       "<style scoped>\n",
       "    .dataframe tbody tr th:only-of-type {\n",
       "        vertical-align: middle;\n",
       "    }\n",
       "\n",
       "    .dataframe tbody tr th {\n",
       "        vertical-align: top;\n",
       "    }\n",
       "\n",
       "    .dataframe thead th {\n",
       "        text-align: right;\n",
       "    }\n",
       "</style>\n",
       "<table border=\"1\" class=\"dataframe\">\n",
       "  <thead>\n",
       "    <tr style=\"text-align: right;\">\n",
       "      <th></th>\n",
       "      <th>R_squared</th>\n",
       "      <th>RMSE</th>\n",
       "      <th>Sample_size</th>\n",
       "      <th>R_squared_base_cases</th>\n",
       "      <th>RMSE_base_cases</th>\n",
       "      <th>Sample_size_base_cases</th>\n",
       "    </tr>\n",
       "  </thead>\n",
       "  <tbody>\n",
       "    <tr>\n",
       "      <th>fitted_fe_and_re</th>\n",
       "      <td>0.961194</td>\n",
       "      <td>0.606611</td>\n",
       "      <td>NaN</td>\n",
       "      <td>0.953357</td>\n",
       "      <td>0.593155</td>\n",
       "      <td>NaN</td>\n",
       "    </tr>\n",
       "    <tr>\n",
       "      <th>fitted_fe_only</th>\n",
       "      <td>0.943804</td>\n",
       "      <td>0.737565</td>\n",
       "      <td>1211.0</td>\n",
       "      <td>0.929415</td>\n",
       "      <td>0.748240</td>\n",
       "      <td>349.0</td>\n",
       "    </tr>\n",
       "  </tbody>\n",
       "</table>\n",
       "</div>"
      ],
      "text/plain": [
       "                  R_squared      RMSE  Sample_size  R_squared_base_cases  \\\n",
       "fitted_fe_and_re   0.961194  0.606611          NaN              0.953357   \n",
       "fitted_fe_only     0.943804  0.737565       1211.0              0.929415   \n",
       "\n",
       "                  RMSE_base_cases  Sample_size_base_cases  \n",
       "fitted_fe_and_re         0.593155                     NaN  \n",
       "fitted_fe_only           0.748240                   349.0  "
      ]
     },
     "execution_count": 38,
     "metadata": {},
     "output_type": "execute_result"
    }
   ],
   "source": [
    "r2s"
   ]
  },
  {
   "cell_type": "code",
   "execution_count": 39,
   "metadata": {},
   "outputs": [],
   "source": [
    "r2s.loc['fitted_fe_only', 'Sample_size_base_cases'] = fit_df.shape[0]\n",
    "if not os.path.exists(pth.R2s):\n",
    "    r2s.to_csv(pth.R2s)"
   ]
  },
  {
   "cell_type": "code",
   "execution_count": 41,
   "metadata": {},
   "outputs": [],
   "source": [
    "# Predictions at 90% universal coverage\n",
    "preds_df = pd.read_csv(pth.CLEANED_PREDS_DF)\n",
    "preds_df['log_vaccine_cost_2017usd'] = np.log(preds_df['vaccine_cost_2017usd'])"
   ]
  },
  {
   "cell_type": "code",
   "execution_count": 42,
   "metadata": {},
   "outputs": [],
   "source": [
    "preds_df['idx'] = np.arange(preds_df.shape[0])\n",
    "\n",
    "preds_df = mr_functions.create_predictions(mr, signal_mr, preds_df,\n",
    "                                           response_name, se_name, selected_covs,\n",
    "                                           study_id_name, data_id_name,\n",
    "                                           beta_samples=beta_samples,\n",
    "                                           seed=8721)\n",
    "preds_df = preds_df.reset_index()\n",
    "preds_df.to_csv(pth.PREDICTIONS, index=False)"
   ]
  },
  {
   "cell_type": "code",
   "execution_count": 43,
   "metadata": {},
   "outputs": [],
   "source": [
    "# Predictions at DTP3 coverage estimate\n",
    "preds_df_dtp3 = pd.read_csv(pth.CLEANED_PREDS_DF)\n",
    "preds_df_dtp3 = preds_df_dtp3.drop('coverage',axis=1)\n",
    "preds_df_dtp3['log_vaccine_cost_2017usd'] = np.log(preds_df_dtp3['vaccine_cost_2017usd'])\n",
    "preds_df_dtp3['coverage'] = preds_df_dtp3['dtp3_coverage']"
   ]
  },
  {
   "cell_type": "code",
   "execution_count": 44,
   "metadata": {},
   "outputs": [],
   "source": [
    "preds_df_dtp3['idx'] = np.arange(preds_df_dtp3.shape[0])\n",
    "\n",
    "preds_df_dtp3 = mr_functions.create_predictions(mr, signal_mr, preds_df_dtp3,\n",
    "                                           response_name, se_name, selected_covs,\n",
    "                                           study_id_name, data_id_name,\n",
    "                                           beta_samples=beta_samples,\n",
    "                                           seed=8721)\n",
    "preds_df_dtp3 = preds_df_dtp3.reset_index()\n",
    "preds_df_dtp3.to_csv(pth.PREDICTIONS_DTP3, index=False)"
   ]
  },
  {
   "cell_type": "code",
   "execution_count": null,
   "metadata": {},
   "outputs": [],
   "source": [
    "# Predictions at Rotavirus coverage estimate\n",
    "preds_df_rota = pd.read_csv(pth.CLEANED_PREDS_DF)\n",
    "preds_df_rota = preds_df_rota.drop('coverage',axis=1)\n",
    "preds_df_rota['log_vaccine_cost_2017usd'] = np.log(preds_df_rota['vaccine_cost_2017usd'])\n",
    "preds_df_rota['coverage'] = preds_df_rota['mean_rota']"
   ]
  },
  {
   "cell_type": "code",
   "execution_count": null,
   "metadata": {},
   "outputs": [],
   "source": [
    "preds_df_rota['idx'] = np.arange(preds_df_rota.shape[0])\n",
    "\n",
    "preds_df_rota = mr_functions.create_predictions(mr, signal_mr, preds_df_rota,\n",
    "                                           response_name, se_name, selected_covs,\n",
    "                                           study_id_name, data_id_name,\n",
    "                                           beta_samples=beta_samples,\n",
    "                                           seed=8721)\n",
    "preds_df_rota = preds_df_rota.reset_index()\n",
    "preds_df_rota.to_csv(pth.PREDICTIONS_ROTA, index=False)"
   ]
  },
  {
   "cell_type": "code",
   "execution_count": null,
   "metadata": {},
   "outputs": [],
   "source": [
    "outlier_df = full_df[['ArticleID', 'RatioID', 'w']]\n",
    "orig_df = pd.read_csv(pth.CLEANED_REG_DF_WITH_SENS)\n",
    "outlier_df = outlier_df.merge(orig_df[['ArticleID', 'RatioID',\n",
    "                                       'log_GDP_2017usd_per_cap', 'log_icer', 'log_vaccine_cost_2017usd', 'log_burden_variable']],\n",
    "                              on=['ArticleID', 'RatioID'], how='left'\n",
    "                             )\n",
    "\n",
    "plotting_functions.plot_quartiles_with_ui(mr,\n",
    "                                          y_axis_var='log_icer',\n",
    "                                          x_axis_var='log_vaccine_cost_2017usd',\n",
    "                                          data_id_name='RatioID',\n",
    "                                          group_var='log_burden_variable',\n",
    "                                          spline_transform_df=None, spline_var=None,\n",
    "                                          beta_samples=beta_samples,\n",
    "                                          plot_title=None,#'ICER vs. vaccine cost by HPV DALYs per capita quartile',\n",
    "                                          group_var_name_display='Rotavirus DALYs per capita',\n",
    "                                          y_axis_var_display='ICER (2017 US$/DALY Averted)',\n",
    "                                          x_axis_var_display='Vaccine Cost (2017 US$)',\n",
    "                                          outliers=outlier_df.loc[outlier_df['w']< 0.5],                                           \n",
    "                                         )\n",
    "plotting_functions.plot_quartiles_with_ui(mr,\n",
    "                                          y_axis_var='log_icer',\n",
    "                                          x_axis_var='log_burden_variable',\n",
    "                                          data_id_name='RatioID',\n",
    "                                          group_var='log_vaccine_cost_2017usd',\n",
    "                                          spline_transform_df=None, spline_var=None,\n",
    "                                          beta_samples=beta_samples,\n",
    "                                          plot_title=None,#'ICER vs. HPV DALYs per capita by vaccine cost quartile',\n",
    "                                          group_var_name_display='Vaccine Cost',\n",
    "                                          y_axis_var_display='ICER (2017 US$/DALY Averted)',\n",
    "                                          x_axis_var_display='Rotavirus DALYs per 100,000 population',\n",
    "                                          outliers=outlier_df.loc[outlier_df['w']< 0.5],\n",
    "                                          x_decimals=-1, x_scale=1e5,\n",
    "                                         )\n",
    "plotting_functions.plot_quartiles_with_ui(mr,\n",
    "                                          y_axis_var='log_icer',\n",
    "                                          x_axis_var='log_GDP_2017usd_per_cap',\n",
    "                                          data_id_name='RatioID',\n",
    "                                          group_var='log_vaccine_cost',\n",
    "                                          spline_transform_df = df[['RatioID',\n",
    "                                                                    'log_GDP_2017usd_per_cap',\n",
    "                                                                    'new_spline_cov']],\n",
    "                                          spline_var='new_spline_cov',\n",
    "                                          beta_samples=beta_samples,\n",
    "                                          plot_title=None,#'ICER vs. GDP per capita by vaccine cost quartile',\n",
    "                                          group_var_name_display='Vaccine cost (2017 US$)',\n",
    "                                          y_axis_var_display='ICER (2017 US$/DALY Averted)',\n",
    "                                          x_axis_var_display='GDP per capita (2017 US$)',\n",
    "                                          outliers=outlier_df.loc[outlier_df['w']< 0.5],\n",
    "                                         )\n",
    "plotting_functions.plot_quartiles_with_ui(mr,\n",
    "                                          y_axis_var='log_icer',\n",
    "                                          x_axis_var='log_vaccine_cost_2017usd',\n",
    "                                          data_id_name='RatioID',\n",
    "                                          group_var='log_GDP_2017usd_per_cap',\n",
    "                                          spline_transform_df = df[['RatioID',\n",
    "                                                                    'log_GDP_2017usd_per_cap',\n",
    "                                                                    'new_spline_cov'\n",
    "                                                                   ]],\n",
    "                                          spline_var='new_spline_cov',\n",
    "                                          beta_samples=beta_samples,\n",
    "                                          plot_title=None,#'ICER vs. vaccine cost by GDP per capita quartile',\n",
    "                                          x_axis_var_display='Vaccine cost (2017 US$)',\n",
    "                                          y_axis_var_display='ICER (2017 US$/DALY Averted)',\n",
    "                                          group_var_name_display='GDP per capita (2017 US$)',\n",
    "                                          outliers=outlier_df.loc[outlier_df['w']< 0.5],\n",
    "                                         )\n",
    "plotting_functions.plot_quartiles_with_ui(mr,\n",
    "                                          y_axis_var='log_icer',\n",
    "                                          x_axis_var='log_burden_variable',\n",
    "                                          data_id_name='RatioID',\n",
    "                                          group_var='log_GDP_2017usd_per_cap',\n",
    "                                          spline_transform_df = df[['RatioID',\n",
    "                                                                    'log_GDP_2017usd_per_cap',\n",
    "                                                                    'new_spline_cov'\n",
    "                                                                   ]],\n",
    "                                          spline_var='new_spline_cov',\n",
    "                                          beta_samples=beta_samples,\n",
    "                                          group_var_name_display='GDP per capita',\n",
    "                                          plot_title=None,\n",
    "                                          y_axis_var_display='ICER (2017 US$/DALY Averted)',\n",
    "                                          x_axis_var_display='Rotavirus DALYs per 100,000 population',\n",
    "                                          x_decimals=-1, x_scale=1e5,\n",
    "                                          outliers=outlier_df.loc[outlier_df['w']< 0.5],\n",
    "                                         )\n",
    "\n",
    "fitteds = mr.predict(mr.data, predict_for_study=False)\n",
    "fig, ax = plt.subplots(nrows=1, ncols=1, figsize=(14, 8))\n",
    "ax.scatter(x=fitteds, y=mr.data.obs - fitteds)\n",
    "plt.savefig(output_dir + 'fits_vs_obs_plot.png')\n",
    "\n",
    "fitteds = mr.predict(mr.data, predict_for_study=True)\n",
    "fig, ax = plt.subplots(nrows=1, ncols=1, figsize=(14, 8))\n",
    "ax.scatter(x=fitteds, y=mr.data.obs - fitteds)\n",
    "plt.savefig(output_dir + 'fits_vs_resids_plot.png')"
   ]
  }
 ],
 "metadata": {
  "kernelspec": {
   "display_name": "Python 3",
   "language": "python",
   "name": "python3"
  },
  "language_info": {
   "codemirror_mode": {
    "name": "ipython",
    "version": 3
   },
   "file_extension": ".py",
   "mimetype": "text/x-python",
   "name": "python",
   "nbconvert_exporter": "python",
   "pygments_lexer": "ipython3",
   "version": "3.7.7"
  }
 },
 "nbformat": 4,
 "nbformat_minor": 4
}
