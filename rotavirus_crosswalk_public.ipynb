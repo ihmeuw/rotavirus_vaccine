{
 "cells": [
  {
   "cell_type": "code",
   "execution_count": null,
   "metadata": {},
   "outputs": [],
   "source": [
    "from IPython.core.display import display, HTML\n",
    "display(HTML(\"<style>.container { width:95% !important; }</style>\"))"
   ]
  },
  {
   "cell_type": "code",
   "execution_count": null,
   "metadata": {},
   "outputs": [],
   "source": [
    "import pandas as pd\n",
    "import numpy as np\n",
    "import sys\n",
    "import os\n",
    "import warnings\n",
    "\n",
    "import matplotlib as mpl\n",
    "import matplotlib.pyplot as plt\n",
    "\n",
    "sys.path.append('../')\n",
    "import paths_vsn17 as pth\n",
    "import crosswalk as cwlk\n",
    "import mrtool\n",
    "import crosswalk_functions"
   ]
  },
  {
   "cell_type": "code",
   "execution_count": 3,
   "metadata": {},
   "outputs": [],
   "source": [
    "param_estimate_df = pd.DataFrame({'draw': np.arange(1000)})\n",
    "param_summary_df = pd.DataFrame({v: [] for v in ['beta', 'se_beta']},\n",
    "                                index=[])"
   ]
  },
  {
   "cell_type": "code",
   "execution_count": 4,
   "metadata": {},
   "outputs": [],
   "source": [
    "df = pd.read_csv(pth.PAIRED_CWALK_DF)"
   ]
  },
  {
   "cell_type": "code",
   "execution_count": 8,
   "metadata": {},
   "outputs": [],
   "source": [
    "df = df.loc[df['sens_vars'].notnull()]"
   ]
  },
  {
   "cell_type": "markdown",
   "metadata": {},
   "source": [
    "# Vaccine Cost"
   ]
  },
  {
   "cell_type": "code",
   "execution_count": 10,
   "metadata": {
    "scrolled": true
   },
   "outputs": [],
   "source": [
    "vacc_cost_df = df[df['sens_vars'].isin(['vaccine_total_cost'])].copy()\n",
    "\n",
    "non_na_cols = ['log_icer_sens', 'log_icer_ref', 'log_vaccine_cost_2017usd_sens', 'log_vaccine_cost_2017usd_ref']\n",
    "vacc_cost_df = vacc_cost_df.loc[vacc_cost_df[non_na_cols].notnull().all(axis=1)].copy()\n",
    "vacc_cost_df = vacc_cost_df.loc[~np.isinf(vacc_cost_df[non_na_cols]).any(axis=1)].copy()"
   ]
  },
  {
   "cell_type": "code",
   "execution_count": 11,
   "metadata": {},
   "outputs": [],
   "source": [
    "vacc_cost_df = crosswalk_functions.create_diff_variables(\n",
    "    vacc_cost_df,\n",
    "    resp_name='log_icer',\n",
    "    se_name='log_icer_se',\n",
    "    cov_name='log_vaccine_cost_2017usd')"
   ]
  },
  {
   "cell_type": "code",
   "execution_count": 12,
   "metadata": {},
   "outputs": [],
   "source": [
    "cwalk_rids = set(list(vacc_cost_df['RatioID'].unique()) + list(vacc_cost_df['reference_scenario']))"
   ]
  },
  {
   "cell_type": "code",
   "execution_count": 16,
   "metadata": {},
   "outputs": [
    {
     "data": {
      "text/plain": [
       "<matplotlib.collections.PathCollection at 0x7fe066f2afd0>"
      ]
     },
     "execution_count": 16,
     "metadata": {},
     "output_type": "execute_result"
    },
    {
     "data": {
      "image/png": "[encoded data removed]",
      "text/plain": [
       "<Figure size 432x288 with 1 Axes>"
      ]
     },
     "metadata": {
      "needs_background": "light"
     },
     "output_type": "display_data"
    }
   ],
   "source": [
    "plt.scatter(x=vacc_cost_df['log_vaccine_cost_2017usd_diff'].to_numpy(),\n",
    "            y=vacc_cost_df['log_icer_diff'].to_numpy(),\n",
    "           )"
   ]
  },
  {
   "cell_type": "code",
   "execution_count": 17,
   "metadata": {},
   "outputs": [],
   "source": [
    "vacc_cost_df['clr'] = (vacc_cost_df['log_icer_diff'].between(-1.2, 0)) & (vacc_cost_df['log_vaccine_cost_2017usd_diff'] < -1.7)"
   ]
  },
  {
   "cell_type": "code",
   "execution_count": 18,
   "metadata": {},
   "outputs": [
    {
     "data": {
      "text/plain": [
       "<matplotlib.collections.PathCollection at 0x7fe066e9db10>"
      ]
     },
     "execution_count": 18,
     "metadata": {},
     "output_type": "execute_result"
    },
    {
     "data": {
      "image/png": "[encoded data removed]",
      "text/plain": [
       "<Figure size 432x288 with 1 Axes>"
      ]
     },
     "metadata": {
      "needs_background": "light"
     },
     "output_type": "display_data"
    }
   ],
   "source": [
    "plt.scatter(x=vacc_cost_df['log_vaccine_cost_2017usd_diff'].to_numpy(),\n",
    "            y=vacc_cost_df['log_icer_diff'].to_numpy(),\n",
    "            c=vacc_cost_df['clr'].to_numpy()\n",
    "           )"
   ]
  },
  {
   "cell_type": "code",
   "execution_count": null,
   "metadata": {},
   "outputs": [],
   "source": [
    "x = pd.read_csv(pth.SENS_ANLYS_DF)"
   ]
  },
  {
   "cell_type": "code",
   "execution_count": 21,
   "metadata": {},
   "outputs": [],
   "source": [
    "vacc_cost_df = vacc_cost_df.drop('ArticleID_sens', axis=1).rename({'ArticleID_ref': 'ArticleID'}, axis=1)"
   ]
  },
  {
   "cell_type": "code",
   "execution_count": 22,
   "metadata": {},
   "outputs": [],
   "source": [
    "vacc_cost_df = vacc_cost_df.loc[vacc_cost_df['log_icer_diff'].notnull()]"
   ]
  },
  {
   "cell_type": "code",
   "execution_count": 23,
   "metadata": {},
   "outputs": [],
   "source": [
    "mr = crosswalk_functions.cwalk(vacc_cost_df, 'log_icer', 'log_icer_se', 'log_vaccine_cost_2017usd', 'ArticleID')"
   ]
  },
  {
   "cell_type": "code",
   "execution_count": null,
   "metadata": {},
   "outputs": [],
   "source": [
    "mr.beta_soln"
   ]
  },
  {
   "cell_type": "code",
   "execution_count": null,
   "metadata": {},
   "outputs": [],
   "source": [
    "vacc_cost_beta_samples, vacc_cost_summary = crosswalk_functions.summarize_cwalk(mr, 'log_vacc_cost')"
   ]
  },
  {
   "cell_type": "code",
   "execution_count": null,
   "metadata": {},
   "outputs": [],
   "source": [
    "crosswalk_functions.compare_sd_versions(mr, beta_samples=vacc_cost_beta_samples)"
   ]
  },
  {
   "cell_type": "code",
   "execution_count": 28,
   "metadata": {},
   "outputs": [],
   "source": [
    "param_estimate_df['log_vaccine_cost'] = vacc_cost_beta_samples"
   ]
  },
  {
   "cell_type": "code",
   "execution_count": 29,
   "metadata": {},
   "outputs": [],
   "source": [
    "param_summary_df = pd.concat([param_summary_df,\n",
    "                              vacc_cost_summary],\n",
    "                             axis=0)"
   ]
  },
  {
   "cell_type": "markdown",
   "metadata": {},
   "source": [
    "# Q/DALYs Discount Rate"
   ]
  },
  {
   "cell_type": "code",
   "execution_count": 31,
   "metadata": {},
   "outputs": [
    {
     "data": {
      "text/plain": [
       "4"
      ]
     },
     "execution_count": 31,
     "metadata": {},
     "output_type": "execute_result"
    }
   ],
   "source": [
    "bdr_df = df[df['sens_vars'] == 'DiscountRate'].copy()\n",
    "bdr_df['burden_disc_rate_sens'] = df['DiscountRate_sens']\n",
    "bdr_df['burden_disc_rate_ref'] = df['DiscountRate_ref']\n",
    "bdr_df = bdr_df.drop('ArticleID_sens', axis=1).rename({'ArticleID_ref': 'ArticleID'}, axis=1)\n",
    "bdr_df[['log_icer_sens', 'log_icer_ref', 'log_icer_se_sens', 'burden_disc_rate_sens',\n",
    "        'log_icer_se_ref', 'burden_disc_rate_ref', 'ArticleID']].isnull().sum(axis=1).sum()"
   ]
  },
  {
   "cell_type": "code",
   "execution_count": 32,
   "metadata": {},
   "outputs": [],
   "source": [
    "non_na_cols = ['log_icer_sens', 'log_icer_ref', 'burden_disc_rate_sens', 'burden_disc_rate_ref']\n",
    "bdr_df = bdr_df.loc[bdr_df[non_na_cols].notnull().all(axis=1)].copy()\n",
    "bdr_df = bdr_df.loc[~np.isinf(bdr_df[non_na_cols]).any(axis=1)].copy()"
   ]
  },
  {
   "cell_type": "code",
   "execution_count": 33,
   "metadata": {},
   "outputs": [],
   "source": [
    "bdr_df = crosswalk_functions.create_diff_variables(\n",
    "    bdr_df,\n",
    "    resp_name='log_icer',\n",
    "    se_name='log_icer_se',\n",
    "    cov_name='burden_disc_rate')"
   ]
  },
  {
   "cell_type": "code",
   "execution_count": 35,
   "metadata": {},
   "outputs": [
    {
     "data": {
      "text/plain": [
       "<matplotlib.collections.PathCollection at 0x7fe066d9cf10>"
      ]
     },
     "execution_count": 35,
     "metadata": {},
     "output_type": "execute_result"
    },
    {
     "data": {
      "image/png": "[encoded data removed]",
      "text/plain": [
       "<Figure size 432x288 with 1 Axes>"
      ]
     },
     "metadata": {
      "needs_background": "light"
     },
     "output_type": "display_data"
    }
   ],
   "source": [
    "plt.scatter(x=bdr_df['burden_disc_rate_diff'].to_numpy(),\n",
    "            y=bdr_df['log_icer_diff'].to_numpy(),\n",
    "           )"
   ]
  },
  {
   "cell_type": "code",
   "execution_count": 36,
   "metadata": {},
   "outputs": [],
   "source": [
    "bdr_mr = crosswalk_functions.cwalk(bdr_df, resp_name='log_icer', se_name='log_icer_se',\n",
    "                                   cov_name='burden_disc_rate', study_id='ArticleID')"
   ]
  },
  {
   "cell_type": "code",
   "execution_count": null,
   "metadata": {},
   "outputs": [],
   "source": [
    "bdr_mr.beta_soln"
   ]
  },
  {
   "cell_type": "code",
   "execution_count": null,
   "metadata": {},
   "outputs": [],
   "source": [
    "bdr_mr.data.obs.shape"
   ]
  },
  {
   "cell_type": "code",
   "execution_count": null,
   "metadata": {},
   "outputs": [],
   "source": [
    "bdr_beta_samples, bdr_summary = crosswalk_functions.summarize_cwalk(bdr_mr, 'burden_disc_rate')"
   ]
  },
  {
   "cell_type": "code",
   "execution_count": null,
   "metadata": {},
   "outputs": [],
   "source": [
    "crosswalk_functions.compare_sd_versions(bdr_mr, beta_samples=bdr_beta_samples)"
   ]
  },
  {
   "cell_type": "code",
   "execution_count": 41,
   "metadata": {},
   "outputs": [],
   "source": [
    "param_estimate_df['burden_disc_rate'] = bdr_beta_samples"
   ]
  },
  {
   "cell_type": "code",
   "execution_count": 42,
   "metadata": {},
   "outputs": [],
   "source": [
    "param_summary_df = pd.concat([param_summary_df,\n",
    "                              bdr_summary],\n",
    "                             axis=0)"
   ]
  },
  {
   "cell_type": "markdown",
   "metadata": {},
   "source": [
    "# Cost discount rate"
   ]
  },
  {
   "cell_type": "code",
   "execution_count": 44,
   "metadata": {},
   "outputs": [],
   "source": [
    "cdr_df = df.loc[df['sens_vars'].isin(['CostDiscountRate', 'CostsDiscountRate'])].copy()"
   ]
  },
  {
   "cell_type": "code",
   "execution_count": 46,
   "metadata": {},
   "outputs": [],
   "source": [
    "non_na_cols = ['log_icer_sens', 'log_icer_ref', 'CostsDiscountRate_sens', 'CostsDiscountRate_ref']\n",
    "cdr_df = cdr_df.loc[cdr_df[non_na_cols].notnull().all(axis=1)].copy()\n",
    "cdr_df = cdr_df.loc[~np.isinf(cdr_df[non_na_cols]).any(axis=1)].copy()"
   ]
  },
  {
   "cell_type": "code",
   "execution_count": 47,
   "metadata": {},
   "outputs": [],
   "source": [
    "cdr_df['cost_disc_rate_sens'] = cdr_df['CostsDiscountRate_sens']\n",
    "cdr_df['cost_disc_rate_ref'] = cdr_df['CostsDiscountRate_ref']\n",
    "cdr_df = crosswalk_functions.create_diff_variables(\n",
    "    cdr_df,\n",
    "    resp_name='log_icer',\n",
    "    se_name='log_icer_se',\n",
    "    cov_name='cost_disc_rate')"
   ]
  },
  {
   "cell_type": "code",
   "execution_count": 49,
   "metadata": {
    "scrolled": true
   },
   "outputs": [
    {
     "data": {
      "text/plain": [
       "<matplotlib.collections.PathCollection at 0x7fe0668b8910>"
      ]
     },
     "execution_count": 49,
     "metadata": {},
     "output_type": "execute_result"
    },
    {
     "data": {
      "image/png": "[encoded data removed]",
      "text/plain": [
       "<Figure size 432x288 with 1 Axes>"
      ]
     },
     "metadata": {
      "needs_background": "light"
     },
     "output_type": "display_data"
    }
   ],
   "source": [
    "plt.scatter(x=cdr_df['cost_disc_rate_diff'].to_numpy(),\n",
    "            y=cdr_df['log_icer_diff'].to_numpy(),\n",
    "           )"
   ]
  },
  {
   "cell_type": "code",
   "execution_count": 51,
   "metadata": {},
   "outputs": [],
   "source": [
    "cdr_df = cdr_df.drop('ArticleID_ref', axis=1).rename({'ArticleID_sens': 'ArticleID'}, axis=1)"
   ]
  },
  {
   "cell_type": "code",
   "execution_count": 52,
   "metadata": {},
   "outputs": [],
   "source": [
    "cdr_mr = crosswalk_functions.cwalk(cdr_df, resp_name='log_icer', se_name='log_icer_se',\n",
    "                                   cov_name='cost_disc_rate', study_id='ArticleID')"
   ]
  },
  {
   "cell_type": "code",
   "execution_count": null,
   "metadata": {},
   "outputs": [],
   "source": [
    "cdr_mr.beta_soln"
   ]
  },
  {
   "cell_type": "code",
   "execution_count": null,
   "metadata": {},
   "outputs": [],
   "source": [
    "cdr_beta_samples, cdr_summary = crosswalk_functions.summarize_cwalk(cdr_mr, 'cost_disc_rate')"
   ]
  },
  {
   "cell_type": "code",
   "execution_count": null,
   "metadata": {},
   "outputs": [],
   "source": [
    "crosswalk_functions.compare_sd_versions(cdr_mr, beta_samples=cdr_beta_samples)"
   ]
  },
  {
   "cell_type": "code",
   "execution_count": 56,
   "metadata": {},
   "outputs": [],
   "source": [
    "param_estimate_df['cost_disc_rate'] = cdr_beta_samples"
   ]
  },
  {
   "cell_type": "code",
   "execution_count": 57,
   "metadata": {},
   "outputs": [],
   "source": [
    "param_summary_df = pd.concat([param_summary_df,\n",
    "                              cdr_summary],\n",
    "                             axis=0)"
   ]
  },
  {
   "cell_type": "markdown",
   "metadata": {},
   "source": [
    "## Coverage"
   ]
  },
  {
   "cell_type": "code",
   "execution_count": 59,
   "metadata": {},
   "outputs": [],
   "source": [
    "cvg_df = df[df['sens_vars'] == 'coverage'].copy()"
   ]
  },
  {
   "cell_type": "code",
   "execution_count": 60,
   "metadata": {},
   "outputs": [],
   "source": [
    "non_na_cols = ['log_icer_sens', 'log_icer_ref', 'coverage_sens', 'coverage_ref']\n",
    "cvg_df = cvg_df.loc[cvg_df[non_na_cols].notnull().all(axis=1)].copy()\n",
    "cvg_df = cvg_df.loc[~np.isinf(cvg_df[non_na_cols]).any(axis=1)].copy()"
   ]
  },
  {
   "cell_type": "code",
   "execution_count": 61,
   "metadata": {},
   "outputs": [],
   "source": [
    "cvg_df = crosswalk_functions.create_diff_variables(\n",
    "    cvg_df,\n",
    "    resp_name='log_icer',\n",
    "    se_name='log_icer_se',\n",
    "    cov_name='coverage')"
   ]
  },
  {
   "cell_type": "code",
   "execution_count": 63,
   "metadata": {},
   "outputs": [
    {
     "data": {
      "text/plain": [
       "<matplotlib.collections.PathCollection at 0x7fe06683e590>"
      ]
     },
     "execution_count": 63,
     "metadata": {},
     "output_type": "execute_result"
    },
    {
     "data": {
      "image/png": "[encoded data removed]",
      "text/plain": [
       "<Figure size 432x288 with 1 Axes>"
      ]
     },
     "metadata": {
      "needs_background": "light"
     },
     "output_type": "display_data"
    }
   ],
   "source": [
    "plt.scatter(x=cvg_df['coverage_diff'].to_numpy(),\n",
    "            y=cvg_df['log_icer_diff'].to_numpy(),\n",
    "           )"
   ]
  },
  {
   "cell_type": "code",
   "execution_count": 64,
   "metadata": {},
   "outputs": [],
   "source": [
    "cvg_df = cvg_df.drop('ArticleID_ref', axis=1).rename({'ArticleID_sens': 'ArticleID'}, axis=1)"
   ]
  },
  {
   "cell_type": "code",
   "execution_count": 67,
   "metadata": {},
   "outputs": [],
   "source": [
    "cvg_mr = crosswalk_functions.cwalk(cvg_df, resp_name='log_icer', se_name='log_icer_se',\n",
    "                                   cov_name='coverage', study_id='ArticleID')"
   ]
  },
  {
   "cell_type": "code",
   "execution_count": null,
   "metadata": {},
   "outputs": [],
   "source": [
    "coverage_beta_samples, coverage_summary = crosswalk_functions.summarize_cwalk(cvg_mr, 'coverage')"
   ]
  },
  {
   "cell_type": "code",
   "execution_count": null,
   "metadata": {},
   "outputs": [],
   "source": [
    "coverage_summary"
   ]
  },
  {
   "cell_type": "code",
   "execution_count": null,
   "metadata": {},
   "outputs": [],
   "source": [
    "crosswalk_functions.compare_sd_versions(cvg_mr, beta_samples=coverage_beta_samples)"
   ]
  },
  {
   "cell_type": "code",
   "execution_count": 73,
   "metadata": {},
   "outputs": [],
   "source": [
    "param_estimate_df['coverage'] = coverage_beta_samples"
   ]
  },
  {
   "cell_type": "code",
   "execution_count": 74,
   "metadata": {},
   "outputs": [],
   "source": [
    "param_summary_df = pd.concat([param_summary_df,\n",
    "                              coverage_summary],\n",
    "                             axis=0)"
   ]
  },
  {
   "cell_type": "markdown",
   "metadata": {},
   "source": [
    "# Vaccine type"
   ]
  },
  {
   "cell_type": "code",
   "execution_count": 75,
   "metadata": {},
   "outputs": [],
   "source": [
    "vacc_type_df = df.loc[df['sens_vars'] == 'vaccine_type'].copy()\n",
    "vacc_type_df = vacc_type_df.drop('ArticleID_sens', axis=1).rename({'ArticleID_ref': 'ArticleID'}, axis=1)"
   ]
  },
  {
   "cell_type": "code",
   "execution_count": 76,
   "metadata": {},
   "outputs": [],
   "source": [
    "non_na_cols = ['log_icer_sens', 'log_icer_ref', 'pentavalent_sens', 'pentavalent_ref']\n",
    "vacc_type_df = vacc_type_df.loc[vacc_type_df[non_na_cols].notnull().all(axis=1)].copy()\n",
    "vacc_type_df = vacc_type_df.loc[~np.isinf(vacc_type_df[non_na_cols]).any(axis=1)].copy()"
   ]
  },
  {
   "cell_type": "code",
   "execution_count": 77,
   "metadata": {},
   "outputs": [],
   "source": [
    "### PENTAVALENT\n",
    "vacc_type_df = vacc_type_df[vacc_type_df['pentavalent_sens'] != vacc_type_df['pentavalent_ref']].copy()"
   ]
  },
  {
   "cell_type": "code",
   "execution_count": 79,
   "metadata": {},
   "outputs": [],
   "source": [
    "vacc_type_df = crosswalk_functions.create_diff_variables(\n",
    "    vacc_type_df,\n",
    "    resp_name='log_icer',\n",
    "    se_name='log_icer_se',\n",
    "    cov_name='pentavalent')\n",
    "vacc_type_df = vacc_type_df[(vacc_type_df['log_icer_diff'].notnull()) & (vacc_type_df['log_icer_diff'] != 0)]"
   ]
  },
  {
   "cell_type": "code",
   "execution_count": 80,
   "metadata": {},
   "outputs": [],
   "source": [
    "vacc_type_mr = crosswalk_functions.cwalk(vacc_type_df, resp_name='log_icer', se_name='log_icer_se',\n",
    "                                         cov_name='pentavalent', study_id='ArticleID')"
   ]
  },
  {
   "cell_type": "code",
   "execution_count": null,
   "metadata": {},
   "outputs": [],
   "source": [
    "vacc_type_mr.beta_soln"
   ]
  },
  {
   "cell_type": "code",
   "execution_count": null,
   "metadata": {},
   "outputs": [],
   "source": [
    "vacc_type_beta_samples, vacc_type_summary = crosswalk_functions.summarize_cwalk(vacc_type_mr, 'pentavalent')"
   ]
  },
  {
   "cell_type": "code",
   "execution_count": null,
   "metadata": {},
   "outputs": [],
   "source": [
    "crosswalk_functions.compare_sd_versions(vacc_type_mr, beta_samples=vacc_type_beta_samples)"
   ]
  },
  {
   "cell_type": "code",
   "execution_count": 84,
   "metadata": {},
   "outputs": [],
   "source": [
    "param_estimate_df['pentavalent'] = vacc_type_beta_samples"
   ]
  },
  {
   "cell_type": "code",
   "execution_count": 85,
   "metadata": {},
   "outputs": [],
   "source": [
    "param_summary_df = pd.concat([param_summary_df,\n",
    "                              vacc_type_summary],\n",
    "                             axis=0)"
   ]
  },
  {
   "cell_type": "markdown",
   "metadata": {},
   "source": [
    "# Payer Perspective"
   ]
  },
  {
   "cell_type": "code",
   "execution_count": 86,
   "metadata": {},
   "outputs": [],
   "source": [
    "persp_df = df.loc[df['sens_vars'] == 'ReaderPerspectiveID'].copy()\n",
    "persp_df = persp_df.drop('ArticleID_sens', axis=1).rename({'ArticleID_ref': 'ArticleID'}, axis=1)"
   ]
  },
  {
   "cell_type": "code",
   "execution_count": 87,
   "metadata": {},
   "outputs": [],
   "source": [
    "non_na_cols = ['log_icer_sens', 'log_icer_ref']\n",
    "non_na_cols = non_na_cols + [i + j for i in ['payer'] for j in  ['_sens', '_ref']]\n",
    "persp_df = persp_df.loc[persp_df[non_na_cols].notnull().all(axis=1)].copy()\n",
    "persp_df = persp_df.loc[~np.isinf(persp_df[non_na_cols]).any(axis=1)].copy()"
   ]
  },
  {
   "cell_type": "code",
   "execution_count": 88,
   "metadata": {},
   "outputs": [],
   "source": [
    "persp_df = crosswalk_functions.create_diff_variables(\n",
    "    persp_df,\n",
    "    resp_name='log_icer',\n",
    "    se_name='log_icer_se',\n",
    "    cov_name='payer')"
   ]
  },
  {
   "cell_type": "code",
   "execution_count": 90,
   "metadata": {},
   "outputs": [],
   "source": [
    "persp_df = persp_df[(persp_df['log_icer_diff'].notnull()) & (persp_df['log_icer_diff'] != 0)]"
   ]
  },
  {
   "cell_type": "code",
   "execution_count": 93,
   "metadata": {},
   "outputs": [],
   "source": [
    "persp_mr = crosswalk_functions.cwalk_multivar(persp_df, 'log_icer', 'log_icer_se', ['payer'], 'ArticleID')"
   ]
  },
  {
   "cell_type": "code",
   "execution_count": null,
   "metadata": {},
   "outputs": [],
   "source": [
    "persp_mr.beta_soln"
   ]
  },
  {
   "cell_type": "code",
   "execution_count": null,
   "metadata": {},
   "outputs": [],
   "source": [
    "persp_beta_samples, persp_summary = crosswalk_functions.summarize_cwalk(persp_mr, ['payer'])"
   ]
  },
  {
   "cell_type": "code",
   "execution_count": 96,
   "metadata": {},
   "outputs": [],
   "source": [
    "persp_sample_size = (persp_df[[i[0] + '_diff' for i in persp_summary.index]]!= 0).sum(axis=0).reset_index()\n",
    "persp_sample_size['index'] = persp_sample_size['index'].str.replace('_diff', '')\n",
    "persp_sample_size = persp_sample_size.rename({'index': 'covariate', 0: 'sample_size'}, axis=1).set_index('covariate')"
   ]
  },
  {
   "cell_type": "code",
   "execution_count": 97,
   "metadata": {},
   "outputs": [],
   "source": [
    "persp_summary.index = [i[0] for i in persp_summary.index]"
   ]
  },
  {
   "cell_type": "code",
   "execution_count": 98,
   "metadata": {},
   "outputs": [],
   "source": [
    "persp_summary['sample_size'] = persp_sample_size['sample_size']"
   ]
  },
  {
   "cell_type": "code",
   "execution_count": 99,
   "metadata": {},
   "outputs": [],
   "source": [
    "param_summary_df = param_summary_df.reset_index().rename({'index': 'covariate'}, axis=1)"
   ]
  },
  {
   "cell_type": "code",
   "execution_count": 101,
   "metadata": {},
   "outputs": [],
   "source": [
    "persp_summary = persp_summary.reset_index().rename({'index': 'covariate'}, axis=1)"
   ]
  },
  {
   "cell_type": "code",
   "execution_count": 102,
   "metadata": {},
   "outputs": [],
   "source": [
    "param_summary_df = pd.concat([param_summary_df,\n",
    "                              persp_summary],\n",
    "                             axis=0, ignore_index=True)\n",
    "# param_summary_df = param_summary_df.set_index('covariate')"
   ]
  },
  {
   "cell_type": "code",
   "execution_count": 105,
   "metadata": {},
   "outputs": [],
   "source": [
    "param_estimate_df[['payer']] = persp_beta_samples"
   ]
  },
  {
   "cell_type": "markdown",
   "metadata": {},
   "source": [
    "# Efficacy"
   ]
  },
  {
   "cell_type": "code",
   "execution_count": 106,
   "metadata": {},
   "outputs": [],
   "source": [
    "eff_df = df.loc[df['sens_vars'] == 'efficacy'].copy()\n",
    "eff_df = eff_df.drop('ArticleID_sens', axis=1).rename({'ArticleID_ref': 'ArticleID'}, axis=1)\n",
    "eff_df = eff_df.loc[(eff_df['efficacy_sens'].notnull()) & (eff_df['efficacy_ref'].notnull())]"
   ]
  },
  {
   "cell_type": "code",
   "execution_count": 107,
   "metadata": {},
   "outputs": [],
   "source": [
    "non_na_cols = ['log_icer_sens', 'log_icer_ref', 'efficacy_sens', 'efficacy_ref']\n",
    "eff_df = eff_df.loc[eff_df[non_na_cols].notnull().all(axis=1)].copy()\n",
    "eff_df = eff_df.loc[~np.isinf(eff_df[non_na_cols]).any(axis=1)].copy()"
   ]
  },
  {
   "cell_type": "code",
   "execution_count": 108,
   "metadata": {},
   "outputs": [],
   "source": [
    "eff_df = crosswalk_functions.create_diff_variables(\n",
    "    eff_df,\n",
    "    resp_name='log_icer',\n",
    "    se_name='log_icer_se',\n",
    "    cov_name='efficacy')"
   ]
  },
  {
   "cell_type": "code",
   "execution_count": 109,
   "metadata": {},
   "outputs": [],
   "source": [
    "eff_df = eff_df[(eff_df['log_icer_diff'].notnull()) & (eff_df['log_icer_diff'] != 0)]"
   ]
  },
  {
   "cell_type": "code",
   "execution_count": 110,
   "metadata": {},
   "outputs": [],
   "source": [
    "eff_mr = crosswalk_functions.cwalk(eff_df, resp_name='log_icer', se_name='log_icer_se',\n",
    "                                   cov_name='efficacy', study_id='ArticleID')"
   ]
  },
  {
   "cell_type": "code",
   "execution_count": null,
   "metadata": {},
   "outputs": [],
   "source": [
    "eff_mr.beta_soln"
   ]
  },
  {
   "cell_type": "code",
   "execution_count": null,
   "metadata": {},
   "outputs": [],
   "source": [
    "eff_beta_samples, eff_summary = crosswalk_functions.summarize_cwalk(eff_mr, 'efficacy')"
   ]
  },
  {
   "cell_type": "code",
   "execution_count": 115,
   "metadata": {},
   "outputs": [],
   "source": [
    "param_estimate_df['efficacy'] = eff_beta_samples"
   ]
  },
  {
   "cell_type": "code",
   "execution_count": 116,
   "metadata": {},
   "outputs": [],
   "source": [
    "eff_summary = eff_summary.reset_index().rename({'index': 'covariate'}, axis=1)"
   ]
  },
  {
   "cell_type": "code",
   "execution_count": 117,
   "metadata": {},
   "outputs": [
    {
     "data": {
      "text/html": [
       "<div>\n",
       "<style scoped>\n",
       "    .dataframe tbody tr th:only-of-type {\n",
       "        vertical-align: middle;\n",
       "    }\n",
       "\n",
       "    .dataframe tbody tr th {\n",
       "        vertical-align: top;\n",
       "    }\n",
       "\n",
       "    .dataframe thead th {\n",
       "        text-align: right;\n",
       "    }\n",
       "</style>\n",
       "<table border=\"1\" class=\"dataframe\">\n",
       "  <thead>\n",
       "    <tr style=\"text-align: right;\">\n",
       "      <th></th>\n",
       "      <th>covariate</th>\n",
       "      <th>beta</th>\n",
       "      <th>se_beta</th>\n",
       "      <th>sample_size</th>\n",
       "    </tr>\n",
       "  </thead>\n",
       "  <tbody>\n",
       "    <tr>\n",
       "      <th>0</th>\n",
       "      <td>log_vacc_cost</td>\n",
       "      <td>0.734179</td>\n",
       "      <td>0.014792</td>\n",
       "      <td>426.0</td>\n",
       "    </tr>\n",
       "    <tr>\n",
       "      <th>1</th>\n",
       "      <td>burden_disc_rate</td>\n",
       "      <td>0.134737</td>\n",
       "      <td>0.014806</td>\n",
       "      <td>55.0</td>\n",
       "    </tr>\n",
       "    <tr>\n",
       "      <th>2</th>\n",
       "      <td>cost_disc_rate</td>\n",
       "      <td>0.043916</td>\n",
       "      <td>0.027013</td>\n",
       "      <td>12.0</td>\n",
       "    </tr>\n",
       "    <tr>\n",
       "      <th>3</th>\n",
       "      <td>coverage</td>\n",
       "      <td>-0.003421</td>\n",
       "      <td>0.007551</td>\n",
       "      <td>14.0</td>\n",
       "    </tr>\n",
       "    <tr>\n",
       "      <th>4</th>\n",
       "      <td>pentavalent</td>\n",
       "      <td>0.323312</td>\n",
       "      <td>0.020058</td>\n",
       "      <td>280.0</td>\n",
       "    </tr>\n",
       "    <tr>\n",
       "      <th>5</th>\n",
       "      <td>payer</td>\n",
       "      <td>0.512776</td>\n",
       "      <td>0.026444</td>\n",
       "      <td>181.0</td>\n",
       "    </tr>\n",
       "    <tr>\n",
       "      <th>6</th>\n",
       "      <td>efficacy</td>\n",
       "      <td>-0.023845</td>\n",
       "      <td>0.000988</td>\n",
       "      <td>284.0</td>\n",
       "    </tr>\n",
       "  </tbody>\n",
       "</table>\n",
       "</div>"
      ],
      "text/plain": [
       "          covariate      beta   se_beta  sample_size\n",
       "0     log_vacc_cost  0.734179  0.014792        426.0\n",
       "1  burden_disc_rate  0.134737  0.014806         55.0\n",
       "2    cost_disc_rate  0.043916  0.027013         12.0\n",
       "3          coverage -0.003421  0.007551         14.0\n",
       "4       pentavalent  0.323312  0.020058        280.0\n",
       "5             payer  0.512776  0.026444        181.0\n",
       "6          efficacy -0.023845  0.000988        284.0"
      ]
     },
     "execution_count": 117,
     "metadata": {},
     "output_type": "execute_result"
    }
   ],
   "source": [
    "param_summary_df = pd.concat([param_summary_df,\n",
    "                              eff_summary],\n",
    "                             axis=0, ignore_index=True)\n",
    "param_summary_df"
   ]
  },
  {
   "cell_type": "code",
   "execution_count": 118,
   "metadata": {},
   "outputs": [],
   "source": [
    "if not os.path.exists(pth.CWALK_PARAM_DRAWS):\n",
    "    print('writing output to ' + pth.CWALK_PARAM_DRAWS)\n",
    "    param_estimate_df.to_csv(pth.CWALK_PARAM_DRAWS, index=False)"
   ]
  },
  {
   "cell_type": "code",
   "execution_count": null,
   "metadata": {},
   "outputs": [],
   "source": [
    "if not os.path.exists(pth.CWALK_PARAM_SUMMARY):\n",
    "    print('writing output to ' + pth.CWALK_PARAM_SUMMARY)\n",
    "    param_summary_df.to_csv(pth.CWALK_PARAM_SUMMARY, index=False)"
   ]
  }
 ],
 "metadata": {
  "kernelspec": {
   "display_name": "Python 3",
   "language": "python",
   "name": "python3"
  },
  "language_info": {
   "codemirror_mode": {
    "name": "ipython",
    "version": 3
   },
   "file_extension": ".py",
   "mimetype": "text/x-python",
   "name": "python",
   "nbconvert_exporter": "python",
   "pygments_lexer": "ipython3",
   "version": "3.8.9"
  }
 },
 "nbformat": 4,
 "nbformat_minor": 4
}
